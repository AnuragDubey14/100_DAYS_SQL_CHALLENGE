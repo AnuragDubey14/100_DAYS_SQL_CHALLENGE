{
 "cells": [
  {
   "cell_type": "markdown",
   "id": "3b65ec4e",
   "metadata": {},
   "source": [
    "# -------------------- Day 12 of 100 days SQL Challenge ------------"
   ]
  },
  {
   "cell_type": "code",
   "execution_count": 1,
   "id": "b00909c4",
   "metadata": {},
   "outputs": [],
   "source": [
    "import pandas as pd\n",
    "import sqlite3\n",
    "import warnings\n",
    "warnings.filterwarnings('ignore')\n",
    "\n",
    "\n",
    "# Establish a connection to the SQLite database\n",
    "db_path = \"FinalDB.db\"  # Replace with the correct path if not in the same directory\n",
    "connection = sqlite3.connect(db_path)"
   ]
  },
  {
   "cell_type": "code",
   "execution_count": 2,
   "id": "85364a4d",
   "metadata": {},
   "outputs": [],
   "source": [
    "%load_ext sql\n",
    "\n"
   ]
  },
  {
   "cell_type": "code",
   "execution_count": 3,
   "id": "ff613680",
   "metadata": {},
   "outputs": [],
   "source": [
    "\n",
    "%sql sqlite:///FinalDB.db\n"
   ]
  },
  {
   "cell_type": "code",
   "execution_count": 4,
   "id": "fda9f42f",
   "metadata": {},
   "outputs": [
    {
     "data": {
      "text/plain": [
       "7"
      ]
     },
     "execution_count": 4,
     "metadata": {},
     "output_type": "execute_result"
    }
   ],
   "source": [
    "\n",
    "# path for the data\n",
    "delivery_partner_path = \"delivery_partner.csv\"\n",
    "food_path = \"food.csv\"\n",
    "menu_path = 'menu.csv'\n",
    "order_detail_path = 'order_details.csv'\n",
    "order_path = 'orders (1).csv'\n",
    "restaurant_path='restaurants.csv'\n",
    "users_path = 'users.csv'\n",
    "\n",
    "\n",
    "\n",
    "# Load data into Pandas DataFrames from the provided path\n",
    "delivery_partner_df = pd.read_csv(delivery_partner_path)\n",
    "food_df = pd.read_csv(food_path)\n",
    "menu_df = pd.read_csv(menu_path)\n",
    "order_detail_df = pd.read_csv(order_detail_path)\n",
    "order_df = pd.read_csv(order_path)\n",
    "restaurant_df=pd.read_csv(restaurant_path)\n",
    "users_df = pd.read_csv(users_path)\n",
    "\n",
    "# Use the to_sql method to create tables and insert DataFrames into SQLite tables\n",
    "\n",
    "delivery_partner_df.to_sql('delivery_partner', connection, index=False, if_exists='replace')\n",
    "food_df.to_sql('food', connection, index=False, if_exists='replace')\n",
    "menu_df.to_sql('menu', connection, index=False, if_exists='replace')\n",
    "order_detail_df.to_sql('order_detail', connection, index=False, if_exists='replace')\n",
    "order_df.to_sql('order', connection, index=False, if_exists='replace')\n",
    "restaurant_df.to_sql('restaurant', connection, index=False, if_exists='replace')\n",
    "users_df.to_sql('users', connection, index=False, if_exists='replace')\n"
   ]
  },
  {
   "cell_type": "code",
   "execution_count": 5,
   "id": "c28e5fa6",
   "metadata": {},
   "outputs": [
    {
     "name": "stdout",
     "output_type": "stream",
     "text": [
      " * sqlite:///FinalDB.db\n",
      "Done.\n"
     ]
    },
    {
     "data": {
      "text/html": [
       "<table>\n",
       "    <thead>\n",
       "        <tr>\n",
       "            <th>name</th>\n",
       "        </tr>\n",
       "    </thead>\n",
       "    <tbody>\n",
       "        <tr>\n",
       "            <td>loyal_users</td>\n",
       "        </tr>\n",
       "        <tr>\n",
       "            <td>delivery_partner</td>\n",
       "        </tr>\n",
       "        <tr>\n",
       "            <td>food</td>\n",
       "        </tr>\n",
       "        <tr>\n",
       "            <td>menu</td>\n",
       "        </tr>\n",
       "        <tr>\n",
       "            <td>order_detail</td>\n",
       "        </tr>\n",
       "        <tr>\n",
       "            <td>order</td>\n",
       "        </tr>\n",
       "        <tr>\n",
       "            <td>restaurant</td>\n",
       "        </tr>\n",
       "        <tr>\n",
       "            <td>users</td>\n",
       "        </tr>\n",
       "    </tbody>\n",
       "</table>"
      ],
      "text/plain": [
       "[('loyal_users',),\n",
       " ('delivery_partner',),\n",
       " ('food',),\n",
       " ('menu',),\n",
       " ('order_detail',),\n",
       " ('order',),\n",
       " ('restaurant',),\n",
       " ('users',)]"
      ]
     },
     "execution_count": 5,
     "metadata": {},
     "output_type": "execute_result"
    }
   ],
   "source": [
    "%%sql\n",
    "SELECT name FROM sqlite_master WHERE type='table';\n",
    "\n"
   ]
  },
  {
   "cell_type": "markdown",
   "id": "32a3c3a3",
   "metadata": {},
   "source": [
    "## Data dictionary  - \n",
    "\n",
    "### delivery_partner - \n",
    "\n",
    "1. **partner_id (int):** An integer representing the unique identifier for each partner.\n",
    "2. **partner_name (str):** A string representing the name of the partner.\n",
    "\n",
    "### food - \n",
    "\n",
    "1. **f_id (int):** An integer representing the unique identifier for each food item.\n",
    "2. **f_name (str):** A string representing the name of the food item.\n",
    "3. **type (str):** A string representing the type of the food item, indicating whether it's \"Veg\" or \"Non-veg\".\n",
    "\n",
    "### menu - \n",
    "\n",
    "1. **menu_id (int):** An integer representing the unique identifier for each menu item.\n",
    "2. **r_id (int):** An integer representing the restaurant ID indicating which restaurant the menu item belongs to.\n",
    "3. **f_id (int):** An integer representing the food item ID indicating which food item is included in the menu.\n",
    "4. **price (int):** An integer representing the price of the menu item.\n",
    "\n",
    "### order_detail - \n",
    "\n",
    "1. **id (int):** An integer representing the unique identifier for each record.\n",
    "2. **order_id (int):** An integer representing the identifier for each order.\n",
    "3. **f_id (int):** An integer representing the food item ID indicating which food item is part of the order.\n",
    "\n",
    "### order -\n",
    "\n",
    "1. **order_id (int):** Identifier for each order.\n",
    "2. **user_id (int):** Identifier for each user.\n",
    "3. **r_id (int):** Identifier for each restaurant.\n",
    "4. **amount (int):** The total amount for the order.\n",
    "5. **date (date):** The date when the order was placed.\n",
    "6. **partner_id (int):** Identifier for each partner.\n",
    "7. **delivery_time (int):** Time taken for delivery in minutes.\n",
    "8. **delivery_rating (int):** Rating given for the delivery service (out of 5).\n",
    "9. **restaurant_rating (int):** Rating given for the restaurant (out of 5).\n",
    "\n",
    "### restaurant -\n",
    "\n",
    "1. **r_id (int):** Identifier for each restaurant.\n",
    "2. **r_name (str):** Name of the restaurant.\n",
    "3. **cuisine (str):** Type of cuisine offered by the restaurant.\n",
    "\n",
    "\n",
    "### users - \n",
    "\n",
    "1. **user_id (int):** Identifier for each user.\n",
    "2. **name (str):** Name of the user.\n",
    "3. **email (str):** Email address of the user.\n",
    "4. **password (str):** Password associated with the user's account.\n",
    "\n",
    "\n",
    "\n"
   ]
  },
  {
   "cell_type": "markdown",
   "id": "9a04f6a0",
   "metadata": {},
   "source": [
    "#### problem 1 -\n",
    "find all users who have never ordered\n"
   ]
  },
  {
   "cell_type": "code",
   "execution_count": 6,
   "id": "e5619158",
   "metadata": {
    "scrolled": false
   },
   "outputs": [
    {
     "name": "stdout",
     "output_type": "stream",
     "text": [
      " * sqlite:///FinalDB.db\n",
      "Done.\n"
     ]
    },
    {
     "data": {
      "text/html": [
       "<table>\n",
       "    <thead>\n",
       "        <tr>\n",
       "            <th>user_id</th>\n",
       "            <th>name</th>\n",
       "            <th>email</th>\n",
       "            <th>password</th>\n",
       "        </tr>\n",
       "    </thead>\n",
       "    <tbody>\n",
       "        <tr>\n",
       "            <td>6</td>\n",
       "            <td>Anupama</td>\n",
       "            <td>anupama@gmail.com</td>\n",
       "            <td>46rdw2</td>\n",
       "        </tr>\n",
       "        <tr>\n",
       "            <td>7</td>\n",
       "            <td>Rishabh</td>\n",
       "            <td>rishabh@gmail.com</td>\n",
       "            <td>4sw123</td>\n",
       "        </tr>\n",
       "    </tbody>\n",
       "</table>"
      ],
      "text/plain": [
       "[(6, 'Anupama', 'anupama@gmail.com', '46rdw2'),\n",
       " (7, 'Rishabh', 'rishabh@gmail.com', '4sw123')]"
      ]
     },
     "execution_count": 6,
     "metadata": {},
     "output_type": "execute_result"
    }
   ],
   "source": [
    "%%sql\n",
    "SELECT *\n",
    "FROM USERS\n",
    "WHERE user_id NOT IN (SELECT DISTINCT user_id FROM \"ORDER\")"
   ]
  },
  {
   "cell_type": "markdown",
   "id": "5eea05f9",
   "metadata": {},
   "source": [
    "#### PROBLEM 2- \n",
    "find the favourite food of each customer"
   ]
  },
  {
   "cell_type": "code",
   "execution_count": 7,
   "id": "d4003571",
   "metadata": {},
   "outputs": [
    {
     "name": "stdout",
     "output_type": "stream",
     "text": [
      " * sqlite:///FinalDB.db\n",
      "Done.\n"
     ]
    },
    {
     "data": {
      "text/html": [
       "<table>\n",
       "    <thead>\n",
       "        <tr>\n",
       "            <th>user_id</th>\n",
       "            <th>name</th>\n",
       "            <th>f_name</th>\n",
       "            <th>frequency</th>\n",
       "        </tr>\n",
       "    </thead>\n",
       "    <tbody>\n",
       "        <tr>\n",
       "            <td>1</td>\n",
       "            <td>Nitish</td>\n",
       "            <td>Choco Lava cake</td>\n",
       "            <td>5</td>\n",
       "        </tr>\n",
       "        <tr>\n",
       "            <td>5</td>\n",
       "            <td>Neha</td>\n",
       "            <td>Choco Lava cake</td>\n",
       "            <td>5</td>\n",
       "        </tr>\n",
       "        <tr>\n",
       "            <td>2</td>\n",
       "            <td>Khushboo</td>\n",
       "            <td>Choco Lava cake</td>\n",
       "            <td>3</td>\n",
       "        </tr>\n",
       "        <tr>\n",
       "            <td>3</td>\n",
       "            <td>Vartika</td>\n",
       "            <td>Chicken Wings</td>\n",
       "            <td>3</td>\n",
       "        </tr>\n",
       "        <tr>\n",
       "            <td>4</td>\n",
       "            <td>Ankit</td>\n",
       "            <td>Schezwan Noodles</td>\n",
       "            <td>3</td>\n",
       "        </tr>\n",
       "        <tr>\n",
       "            <td>4</td>\n",
       "            <td>Ankit</td>\n",
       "            <td>Veg Manchurian</td>\n",
       "            <td>3</td>\n",
       "        </tr>\n",
       "    </tbody>\n",
       "</table>"
      ],
      "text/plain": [
       "[(1, 'Nitish', 'Choco Lava cake', 5),\n",
       " (5, 'Neha', 'Choco Lava cake', 5),\n",
       " (2, 'Khushboo', 'Choco Lava cake', 3),\n",
       " (3, 'Vartika', 'Chicken Wings', 3),\n",
       " (4, 'Ankit', 'Schezwan Noodles', 3),\n",
       " (4, 'Ankit', 'Veg Manchurian', 3)]"
      ]
     },
     "execution_count": 7,
     "metadata": {},
     "output_type": "execute_result"
    }
   ],
   "source": [
    "%%sql\n",
    "with fav_food as (\n",
    "    SELECT o.user_id,name,f_name, COUNT(*) AS `frequency`\n",
    "    FROM users u\n",
    "JOIN \"order\" o ON u.user_id=o.user_id\n",
    "JOIN order_detail od ON o.order_id=od.order_id\n",
    "JOIN food f ON od.f_id = f.f_id\n",
    "GROUP BY o.user_id,od.f_id\n",
    ")\n",
    "\n",
    "SELECT * FROM fav_food f1\n",
    "WHERE frequency = (SELECT MAX(frequency)\n",
    "                  FROM fav_food f2\n",
    "                  WHERE f2.user_id = f1.user_id)\n",
    "ORDER BY frequency DESC\n"
   ]
  },
  {
   "cell_type": "markdown",
   "id": "57cf925c",
   "metadata": {},
   "source": [
    "#### PROBLEM 3- \n",
    "Display average rating of all the restaurants"
   ]
  },
  {
   "cell_type": "code",
   "execution_count": 8,
   "id": "49c39bee",
   "metadata": {},
   "outputs": [
    {
     "name": "stdout",
     "output_type": "stream",
     "text": [
      " * sqlite:///FinalDB.db\n",
      "Done.\n"
     ]
    },
    {
     "data": {
      "text/html": [
       "<table>\n",
       "    <thead>\n",
       "        <tr>\n",
       "            <th>r_name</th>\n",
       "            <th>avg_rating</th>\n",
       "        </tr>\n",
       "    </thead>\n",
       "    <tbody>\n",
       "        <tr>\n",
       "            <td>dominos</td>\n",
       "            <td>1.6666666666666667</td>\n",
       "        </tr>\n",
       "        <tr>\n",
       "            <td>kfc</td>\n",
       "            <td>2.2</td>\n",
       "        </tr>\n",
       "        <tr>\n",
       "            <td>box8</td>\n",
       "            <td>4.666666666666667</td>\n",
       "        </tr>\n",
       "        <tr>\n",
       "            <td>Dosa Plaza</td>\n",
       "            <td>3.6666666666666665</td>\n",
       "        </tr>\n",
       "        <tr>\n",
       "            <td>China Town</td>\n",
       "            <td>3.6666666666666665</td>\n",
       "        </tr>\n",
       "    </tbody>\n",
       "</table>"
      ],
      "text/plain": [
       "[('dominos', 1.6666666666666667),\n",
       " ('kfc', 2.2),\n",
       " ('box8', 4.666666666666667),\n",
       " ('Dosa Plaza', 3.6666666666666665),\n",
       " ('China Town', 3.6666666666666665)]"
      ]
     },
     "execution_count": 8,
     "metadata": {},
     "output_type": "execute_result"
    }
   ],
   "source": [
    "%%sql\n",
    "select r_name, avg_rating\n",
    "from (select r_id, avg(restaurant_rating) as `avg_rating`\n",
    "     from 'order'\n",
    "     group by r_id) t1 JOIN restaurant t2\n",
    "     on t1.r_id = t2.r_id "
   ]
  },
  {
   "cell_type": "code",
   "execution_count": 9,
   "id": "95b7dd25",
   "metadata": {},
   "outputs": [
    {
     "name": "stdout",
     "output_type": "stream",
     "text": [
      " * sqlite:///FinalDB.db\n",
      "Done.\n",
      "Done.\n"
     ]
    },
    {
     "data": {
      "text/plain": [
       "[]"
      ]
     },
     "execution_count": 9,
     "metadata": {},
     "output_type": "execute_result"
    }
   ],
   "source": [
    "%%sql\n",
    "-- Drop the table if it exists\n",
    "DROP TABLE IF EXISTS loyal_users;\n",
    "\n",
    "-- Create the table\n",
    "CREATE TABLE loyal_users (\n",
    "    user_id INTEGER PRIMARY KEY,\n",
    "    name VARCHAR(30),\n",
    "    money INTEGER\n",
    ");\n"
   ]
  },
  {
   "cell_type": "code",
   "execution_count": 10,
   "id": "7a98c4fb",
   "metadata": {},
   "outputs": [
    {
     "name": "stdout",
     "output_type": "stream",
     "text": [
      " * sqlite:///FinalDB.db\n",
      "Done.\n"
     ]
    },
    {
     "data": {
      "text/html": [
       "<table>\n",
       "    <thead>\n",
       "        <tr>\n",
       "            <th>name</th>\n",
       "        </tr>\n",
       "    </thead>\n",
       "    <tbody>\n",
       "        <tr>\n",
       "            <td>delivery_partner</td>\n",
       "        </tr>\n",
       "        <tr>\n",
       "            <td>food</td>\n",
       "        </tr>\n",
       "        <tr>\n",
       "            <td>menu</td>\n",
       "        </tr>\n",
       "        <tr>\n",
       "            <td>order_detail</td>\n",
       "        </tr>\n",
       "        <tr>\n",
       "            <td>order</td>\n",
       "        </tr>\n",
       "        <tr>\n",
       "            <td>restaurant</td>\n",
       "        </tr>\n",
       "        <tr>\n",
       "            <td>users</td>\n",
       "        </tr>\n",
       "        <tr>\n",
       "            <td>loyal_users</td>\n",
       "        </tr>\n",
       "    </tbody>\n",
       "</table>"
      ],
      "text/plain": [
       "[('delivery_partner',),\n",
       " ('food',),\n",
       " ('menu',),\n",
       " ('order_detail',),\n",
       " ('order',),\n",
       " ('restaurant',),\n",
       " ('users',),\n",
       " ('loyal_users',)]"
      ]
     },
     "execution_count": 10,
     "metadata": {},
     "output_type": "execute_result"
    }
   ],
   "source": [
    "%%sql\n",
    "SELECT name FROM sqlite_master WHERE type='table';\n",
    "\n"
   ]
  },
  {
   "cell_type": "markdown",
   "id": "83fbe15e",
   "metadata": {},
   "source": [
    "#### Problem - \n",
    "Populate a already created loyal_users table with records only those customers who have ordered food more than 3 times."
   ]
  },
  {
   "cell_type": "code",
   "execution_count": 11,
   "id": "dd40738b",
   "metadata": {},
   "outputs": [
    {
     "name": "stdout",
     "output_type": "stream",
     "text": [
      " * sqlite:///FinalDB.db\n",
      "5 rows affected.\n"
     ]
    },
    {
     "data": {
      "text/plain": [
       "[]"
      ]
     },
     "execution_count": 11,
     "metadata": {},
     "output_type": "execute_result"
    }
   ],
   "source": [
    "%%sql\n",
    "INSERT INTO loyal_users (user_id, name)\n",
    "SELECT t1.user_id, t2.name\n",
    "FROM \"order\" t1\n",
    "JOIN users t2 ON t1.user_id = t2.user_id\n",
    "GROUP BY t1.user_id, t2.name\n",
    "HAVING count(*) > 3;\n"
   ]
  },
  {
   "cell_type": "code",
   "execution_count": 12,
   "id": "f6bd05f8",
   "metadata": {},
   "outputs": [
    {
     "name": "stdout",
     "output_type": "stream",
     "text": [
      " * sqlite:///FinalDB.db\n",
      "Done.\n"
     ]
    },
    {
     "data": {
      "text/html": [
       "<table>\n",
       "    <thead>\n",
       "        <tr>\n",
       "            <th>user_id</th>\n",
       "            <th>name</th>\n",
       "            <th>money</th>\n",
       "        </tr>\n",
       "    </thead>\n",
       "    <tbody>\n",
       "        <tr>\n",
       "            <td>1</td>\n",
       "            <td>Nitish</td>\n",
       "            <td>None</td>\n",
       "        </tr>\n",
       "        <tr>\n",
       "            <td>2</td>\n",
       "            <td>Khushboo</td>\n",
       "            <td>None</td>\n",
       "        </tr>\n",
       "        <tr>\n",
       "            <td>3</td>\n",
       "            <td>Vartika</td>\n",
       "            <td>None</td>\n",
       "        </tr>\n",
       "        <tr>\n",
       "            <td>4</td>\n",
       "            <td>Ankit</td>\n",
       "            <td>None</td>\n",
       "        </tr>\n",
       "        <tr>\n",
       "            <td>5</td>\n",
       "            <td>Neha</td>\n",
       "            <td>None</td>\n",
       "        </tr>\n",
       "    </tbody>\n",
       "</table>"
      ],
      "text/plain": [
       "[(1, 'Nitish', None),\n",
       " (2, 'Khushboo', None),\n",
       " (3, 'Vartika', None),\n",
       " (4, 'Ankit', None),\n",
       " (5, 'Neha', None)]"
      ]
     },
     "execution_count": 12,
     "metadata": {},
     "output_type": "execute_result"
    }
   ],
   "source": [
    "%%sql\n",
    "select * from loyal_users"
   ]
  },
  {
   "cell_type": "markdown",
   "id": "e0e1185a",
   "metadata": {},
   "source": [
    "#### Problem - \n",
    "populate the money col of loyal_users table using the order table. provide 10% app money to all customer based on thier order value"
   ]
  },
  {
   "cell_type": "code",
   "execution_count": 13,
   "id": "b476156b",
   "metadata": {},
   "outputs": [
    {
     "name": "stdout",
     "output_type": "stream",
     "text": [
      " * sqlite:///FinalDB.db\n",
      "5 rows affected.\n"
     ]
    },
    {
     "data": {
      "text/plain": [
       "[]"
      ]
     },
     "execution_count": 13,
     "metadata": {},
     "output_type": "execute_result"
    }
   ],
   "source": [
    "%%sql\n",
    "update loyal_users\n",
    "set money = (select sum(amount)*0.1\n",
    "            from 'order' as o\n",
    "            where o.user_id=loyal_users.user_id)"
   ]
  },
  {
   "cell_type": "code",
   "execution_count": 14,
   "id": "2ab208a8",
   "metadata": {},
   "outputs": [
    {
     "name": "stdout",
     "output_type": "stream",
     "text": [
      " * sqlite:///FinalDB.db\n",
      "Done.\n"
     ]
    },
    {
     "data": {
      "text/html": [
       "<table>\n",
       "    <thead>\n",
       "        <tr>\n",
       "            <th>user_id</th>\n",
       "            <th>name</th>\n",
       "            <th>money</th>\n",
       "        </tr>\n",
       "    </thead>\n",
       "    <tbody>\n",
       "        <tr>\n",
       "            <td>1</td>\n",
       "            <td>Nitish</td>\n",
       "            <td>166.5</td>\n",
       "        </tr>\n",
       "        <tr>\n",
       "            <td>2</td>\n",
       "            <td>Khushboo</td>\n",
       "            <td>267</td>\n",
       "        </tr>\n",
       "        <tr>\n",
       "            <td>3</td>\n",
       "            <td>Vartika</td>\n",
       "            <td>132</td>\n",
       "        </tr>\n",
       "        <tr>\n",
       "            <td>4</td>\n",
       "            <td>Ankit</td>\n",
       "            <td>180</td>\n",
       "        </tr>\n",
       "        <tr>\n",
       "            <td>5</td>\n",
       "            <td>Neha</td>\n",
       "            <td>303.5</td>\n",
       "        </tr>\n",
       "    </tbody>\n",
       "</table>"
      ],
      "text/plain": [
       "[(1, 'Nitish', 166.5),\n",
       " (2, 'Khushboo', 267),\n",
       " (3, 'Vartika', 132),\n",
       " (4, 'Ankit', 180),\n",
       " (5, 'Neha', 303.5)]"
      ]
     },
     "execution_count": 14,
     "metadata": {},
     "output_type": "execute_result"
    }
   ],
   "source": [
    "%%sql\n",
    "select * from loyal_users"
   ]
  },
  {
   "cell_type": "markdown",
   "id": "d0a059c1",
   "metadata": {},
   "source": [
    "#### Problem\n",
    "Delete all the customer record who have never ordered"
   ]
  },
  {
   "cell_type": "code",
   "execution_count": 15,
   "id": "4facc720",
   "metadata": {},
   "outputs": [
    {
     "name": "stdout",
     "output_type": "stream",
     "text": [
      " * sqlite:///FinalDB.db\n",
      "2 rows affected.\n"
     ]
    },
    {
     "data": {
      "text/plain": [
       "[]"
      ]
     },
     "execution_count": 15,
     "metadata": {},
     "output_type": "execute_result"
    }
   ],
   "source": [
    "%%sql\n",
    "delete from users where user_id in\n",
    "(select user_id from users\n",
    "where user_id not in (select distinct(user_id) from 'order'))"
   ]
  }
 ],
 "metadata": {
  "kernelspec": {
   "display_name": "Python 3 (ipykernel)",
   "language": "python",
   "name": "python3"
  },
  "language_info": {
   "codemirror_mode": {
    "name": "ipython",
    "version": 3
   },
   "file_extension": ".py",
   "mimetype": "text/x-python",
   "name": "python",
   "nbconvert_exporter": "python",
   "pygments_lexer": "ipython3",
   "version": "3.11.1"
  }
 },
 "nbformat": 4,
 "nbformat_minor": 5
}
