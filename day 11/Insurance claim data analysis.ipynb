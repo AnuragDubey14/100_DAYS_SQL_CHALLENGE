{
 "cells": [
  {
   "cell_type": "markdown",
   "id": "4d621e89",
   "metadata": {},
   "source": [
    "# -------------------- Day 11 of 100 days SQL Challenge ------------\n",
    "\n",
    "## about this dataset - \n",
    "<p>This dataset contains insightful information related to insurance claims, giving us an in-depth look into the demographic patterns of those receiving them. The dataset contains information on patient age, gender, BMI (Body Mass Index), blood pressure levels, diabetic status, number of children, smoking status and region. By analyzing these key factors across geographical areas and across different demographics such as age or gender we can gain a greater understanding of who is most likely to receive an insurance claim. This understanding gives us valuable insight that can be used to inform our decision making when considering potential customers for our services. On a broader scale it can inform public policy by allowing for more targeted support for those who are most in need and vulnerable. These kinds of insights are extremely valuable and this dataset provides us with the tools we need to uncover them!</p>\n",
    "\n",
    " \n",
    "**Dataset Link -** [kaggle](https://www.kaggle.com/datasets/thedevastator/insurance-claim-analysis-demographic-and-health) \n",
    "\n",
    "### DATA DICTIONARY \n",
    "\n",
    "\n",
    "1. **PatientID -** Unique identifier for each patient.\n",
    "2. **age -** Age of the patient.\n",
    "3. **gender -** Gender of the patient (e.g., male, female).\n",
    "4. **bmi -** Body Mass Index, a measure of body fat calculated from the patient's height and weight.\n",
    "5. **bloodpressure -** Blood pressure of the patient.\n",
    "6. **diabetic -** Indicates whether the patient is diabetic (e.g., Yes, No).\n",
    "7. **children -** Number of children the patient has.\n",
    "8. **smoker -** Indicates whether the patient is a smoker (e.g., Yes, No).\n",
    "9. **region -** Geographic region associated with the patient.\n",
    "10. **claim -** Insurance claim associated with the patient.\n",
    "\n"
   ]
  },
  {
   "cell_type": "code",
   "execution_count": 1,
   "id": "509cf4e1",
   "metadata": {},
   "outputs": [],
   "source": [
    "import pandas as pd\n",
    "import sqlite3\n",
    "\n",
    "# Establish a connection to the SQLite database\n",
    "db_path = \"FinalDB.db\"  # Replace with the correct path if not in the same directory\n",
    "connection = sqlite3.connect(db_path)"
   ]
  },
  {
   "cell_type": "code",
   "execution_count": 2,
   "id": "b92e9495",
   "metadata": {},
   "outputs": [],
   "source": [
    "%load_ext sql\n",
    "\n"
   ]
  },
  {
   "cell_type": "code",
   "execution_count": 3,
   "id": "b50e132d",
   "metadata": {},
   "outputs": [],
   "source": [
    "\n",
    "%sql sqlite:///FinalDB.db\n"
   ]
  },
  {
   "cell_type": "code",
   "execution_count": 4,
   "id": "47ce19f5",
   "metadata": {},
   "outputs": [
    {
     "data": {
      "text/plain": [
       "1340"
      ]
     },
     "execution_count": 4,
     "metadata": {},
     "output_type": "execute_result"
    }
   ],
   "source": [
    "\n",
    "# path for the data\n",
    "path = \"insurance_data.csv\"\n",
    "\n",
    "# Load data into Pandas DataFrames from the provided path\n",
    "insurance_df = pd.read_csv(path)\n",
    "\n",
    "\n",
    "# Use the to_sql method to create tables and insert DataFrames into SQLite tables\n",
    "\n",
    "insurance_df.to_sql('insurance', connection, index=False, if_exists='replace')\n"
   ]
  },
  {
   "cell_type": "code",
   "execution_count": 7,
   "id": "d6133c33",
   "metadata": {},
   "outputs": [
    {
     "name": "stdout",
     "output_type": "stream",
     "text": [
      " * sqlite:///FinalDB.db\n",
      "Done.\n"
     ]
    },
    {
     "data": {
      "text/html": [
       "<table>\n",
       "    <thead>\n",
       "        <tr>\n",
       "            <th>name</th>\n",
       "        </tr>\n",
       "    </thead>\n",
       "    <tbody>\n",
       "        <tr>\n",
       "            <td>insurance</td>\n",
       "        </tr>\n",
       "    </tbody>\n",
       "</table>"
      ],
      "text/plain": [
       "[('insurance',)]"
      ]
     },
     "execution_count": 7,
     "metadata": {},
     "output_type": "execute_result"
    }
   ],
   "source": [
    "%%sql\n",
    "SELECT name FROM sqlite_master WHERE type='table';\n",
    "\n"
   ]
  },
  {
   "cell_type": "code",
   "execution_count": 9,
   "id": "e97428b2",
   "metadata": {},
   "outputs": [
    {
     "name": "stdout",
     "output_type": "stream",
     "text": [
      " * sqlite:///FinalDB.db\n",
      "Done.\n"
     ]
    },
    {
     "data": {
      "text/html": [
       "<table>\n",
       "    <thead>\n",
       "        <tr>\n",
       "            <th>Number of rows</th>\n",
       "        </tr>\n",
       "    </thead>\n",
       "    <tbody>\n",
       "        <tr>\n",
       "            <td>1340</td>\n",
       "        </tr>\n",
       "    </tbody>\n",
       "</table>"
      ],
      "text/plain": [
       "[(1340,)]"
      ]
     },
     "execution_count": 9,
     "metadata": {},
     "output_type": "execute_result"
    }
   ],
   "source": [
    "%%sql\n",
    "select count(*) as `Number of rows` from insurance"
   ]
  },
  {
   "cell_type": "markdown",
   "id": "b4477d16",
   "metadata": {},
   "source": [
    "**from above cell we can see that there are 1340 number of rows present in our table** "
   ]
  },
  {
   "cell_type": "code",
   "execution_count": 10,
   "id": "7248be7a",
   "metadata": {},
   "outputs": [
    {
     "name": "stdout",
     "output_type": "stream",
     "text": [
      " * sqlite:///FinalDB.db\n",
      "Done.\n"
     ]
    },
    {
     "data": {
      "text/html": [
       "<table>\n",
       "    <thead>\n",
       "        <tr>\n",
       "            <th>cid</th>\n",
       "            <th>name</th>\n",
       "            <th>type</th>\n",
       "            <th>notnull</th>\n",
       "            <th>dflt_value</th>\n",
       "            <th>pk</th>\n",
       "        </tr>\n",
       "    </thead>\n",
       "    <tbody>\n",
       "        <tr>\n",
       "            <td>0</td>\n",
       "            <td>index</td>\n",
       "            <td>INTEGER</td>\n",
       "            <td>0</td>\n",
       "            <td>None</td>\n",
       "            <td>0</td>\n",
       "        </tr>\n",
       "        <tr>\n",
       "            <td>1</td>\n",
       "            <td>PatientID</td>\n",
       "            <td>INTEGER</td>\n",
       "            <td>0</td>\n",
       "            <td>None</td>\n",
       "            <td>0</td>\n",
       "        </tr>\n",
       "        <tr>\n",
       "            <td>2</td>\n",
       "            <td>age</td>\n",
       "            <td>REAL</td>\n",
       "            <td>0</td>\n",
       "            <td>None</td>\n",
       "            <td>0</td>\n",
       "        </tr>\n",
       "        <tr>\n",
       "            <td>3</td>\n",
       "            <td>gender</td>\n",
       "            <td>TEXT</td>\n",
       "            <td>0</td>\n",
       "            <td>None</td>\n",
       "            <td>0</td>\n",
       "        </tr>\n",
       "        <tr>\n",
       "            <td>4</td>\n",
       "            <td>bmi</td>\n",
       "            <td>REAL</td>\n",
       "            <td>0</td>\n",
       "            <td>None</td>\n",
       "            <td>0</td>\n",
       "        </tr>\n",
       "        <tr>\n",
       "            <td>5</td>\n",
       "            <td>bloodpressure</td>\n",
       "            <td>INTEGER</td>\n",
       "            <td>0</td>\n",
       "            <td>None</td>\n",
       "            <td>0</td>\n",
       "        </tr>\n",
       "        <tr>\n",
       "            <td>6</td>\n",
       "            <td>diabetic</td>\n",
       "            <td>TEXT</td>\n",
       "            <td>0</td>\n",
       "            <td>None</td>\n",
       "            <td>0</td>\n",
       "        </tr>\n",
       "        <tr>\n",
       "            <td>7</td>\n",
       "            <td>children</td>\n",
       "            <td>INTEGER</td>\n",
       "            <td>0</td>\n",
       "            <td>None</td>\n",
       "            <td>0</td>\n",
       "        </tr>\n",
       "        <tr>\n",
       "            <td>8</td>\n",
       "            <td>smoker</td>\n",
       "            <td>TEXT</td>\n",
       "            <td>0</td>\n",
       "            <td>None</td>\n",
       "            <td>0</td>\n",
       "        </tr>\n",
       "        <tr>\n",
       "            <td>9</td>\n",
       "            <td>region</td>\n",
       "            <td>TEXT</td>\n",
       "            <td>0</td>\n",
       "            <td>None</td>\n",
       "            <td>0</td>\n",
       "        </tr>\n",
       "        <tr>\n",
       "            <td>10</td>\n",
       "            <td>claim</td>\n",
       "            <td>REAL</td>\n",
       "            <td>0</td>\n",
       "            <td>None</td>\n",
       "            <td>0</td>\n",
       "        </tr>\n",
       "    </tbody>\n",
       "</table>"
      ],
      "text/plain": [
       "[(0, 'index', 'INTEGER', 0, None, 0),\n",
       " (1, 'PatientID', 'INTEGER', 0, None, 0),\n",
       " (2, 'age', 'REAL', 0, None, 0),\n",
       " (3, 'gender', 'TEXT', 0, None, 0),\n",
       " (4, 'bmi', 'REAL', 0, None, 0),\n",
       " (5, 'bloodpressure', 'INTEGER', 0, None, 0),\n",
       " (6, 'diabetic', 'TEXT', 0, None, 0),\n",
       " (7, 'children', 'INTEGER', 0, None, 0),\n",
       " (8, 'smoker', 'TEXT', 0, None, 0),\n",
       " (9, 'region', 'TEXT', 0, None, 0),\n",
       " (10, 'claim', 'REAL', 0, None, 0)]"
      ]
     },
     "execution_count": 10,
     "metadata": {},
     "output_type": "execute_result"
    }
   ],
   "source": [
    "%%sql\n",
    "PRAGMA table_info(insurance);\n"
   ]
  },
  {
   "cell_type": "code",
   "execution_count": 17,
   "id": "96b49c98",
   "metadata": {},
   "outputs": [
    {
     "name": "stdout",
     "output_type": "stream",
     "text": [
      " * sqlite:///FinalDB.db\n",
      "Done.\n"
     ]
    },
    {
     "data": {
      "text/html": [
       "<table>\n",
       "    <thead>\n",
       "        <tr>\n",
       "            <th>index</th>\n",
       "            <th>PatientID</th>\n",
       "            <th>age</th>\n",
       "            <th>gender</th>\n",
       "            <th>bmi</th>\n",
       "            <th>bloodpressure</th>\n",
       "            <th>diabetic</th>\n",
       "            <th>children</th>\n",
       "            <th>smoker</th>\n",
       "            <th>region</th>\n",
       "            <th>claim</th>\n",
       "        </tr>\n",
       "    </thead>\n",
       "    <tbody>\n",
       "        <tr>\n",
       "            <td>0</td>\n",
       "            <td>1</td>\n",
       "            <td>39.0</td>\n",
       "            <td>male</td>\n",
       "            <td>23.2</td>\n",
       "            <td>91</td>\n",
       "            <td>Yes</td>\n",
       "            <td>0</td>\n",
       "            <td>No</td>\n",
       "            <td>southeast</td>\n",
       "            <td>1121.87</td>\n",
       "        </tr>\n",
       "        <tr>\n",
       "            <td>1</td>\n",
       "            <td>2</td>\n",
       "            <td>24.0</td>\n",
       "            <td>male</td>\n",
       "            <td>30.1</td>\n",
       "            <td>87</td>\n",
       "            <td>No</td>\n",
       "            <td>0</td>\n",
       "            <td>No</td>\n",
       "            <td>southeast</td>\n",
       "            <td>1131.51</td>\n",
       "        </tr>\n",
       "        <tr>\n",
       "            <td>2</td>\n",
       "            <td>3</td>\n",
       "            <td>None</td>\n",
       "            <td>male</td>\n",
       "            <td>33.3</td>\n",
       "            <td>82</td>\n",
       "            <td>Yes</td>\n",
       "            <td>0</td>\n",
       "            <td>No</td>\n",
       "            <td>southeast</td>\n",
       "            <td>1135.94</td>\n",
       "        </tr>\n",
       "        <tr>\n",
       "            <td>3</td>\n",
       "            <td>4</td>\n",
       "            <td>None</td>\n",
       "            <td>male</td>\n",
       "            <td>33.7</td>\n",
       "            <td>80</td>\n",
       "            <td>No</td>\n",
       "            <td>0</td>\n",
       "            <td>No</td>\n",
       "            <td>northwest</td>\n",
       "            <td>1136.4</td>\n",
       "        </tr>\n",
       "        <tr>\n",
       "            <td>4</td>\n",
       "            <td>5</td>\n",
       "            <td>None</td>\n",
       "            <td>male</td>\n",
       "            <td>34.1</td>\n",
       "            <td>100</td>\n",
       "            <td>No</td>\n",
       "            <td>0</td>\n",
       "            <td>No</td>\n",
       "            <td>northwest</td>\n",
       "            <td>1137.01</td>\n",
       "        </tr>\n",
       "        <tr>\n",
       "            <td>5</td>\n",
       "            <td>6</td>\n",
       "            <td>None</td>\n",
       "            <td>male</td>\n",
       "            <td>34.4</td>\n",
       "            <td>96</td>\n",
       "            <td>Yes</td>\n",
       "            <td>0</td>\n",
       "            <td>No</td>\n",
       "            <td>northwest</td>\n",
       "            <td>1137.47</td>\n",
       "        </tr>\n",
       "        <tr>\n",
       "            <td>6</td>\n",
       "            <td>7</td>\n",
       "            <td>None</td>\n",
       "            <td>male</td>\n",
       "            <td>37.3</td>\n",
       "            <td>86</td>\n",
       "            <td>Yes</td>\n",
       "            <td>0</td>\n",
       "            <td>No</td>\n",
       "            <td>northwest</td>\n",
       "            <td>1141.45</td>\n",
       "        </tr>\n",
       "        <tr>\n",
       "            <td>7</td>\n",
       "            <td>8</td>\n",
       "            <td>19.0</td>\n",
       "            <td>male</td>\n",
       "            <td>41.1</td>\n",
       "            <td>100</td>\n",
       "            <td>No</td>\n",
       "            <td>0</td>\n",
       "            <td>No</td>\n",
       "            <td>northwest</td>\n",
       "            <td>1146.8</td>\n",
       "        </tr>\n",
       "        <tr>\n",
       "            <td>8</td>\n",
       "            <td>9</td>\n",
       "            <td>20.0</td>\n",
       "            <td>male</td>\n",
       "            <td>43.0</td>\n",
       "            <td>86</td>\n",
       "            <td>No</td>\n",
       "            <td>0</td>\n",
       "            <td>No</td>\n",
       "            <td>northwest</td>\n",
       "            <td>1149.4</td>\n",
       "        </tr>\n",
       "        <tr>\n",
       "            <td>9</td>\n",
       "            <td>10</td>\n",
       "            <td>30.0</td>\n",
       "            <td>male</td>\n",
       "            <td>53.1</td>\n",
       "            <td>97</td>\n",
       "            <td>No</td>\n",
       "            <td>0</td>\n",
       "            <td>No</td>\n",
       "            <td>northwest</td>\n",
       "            <td>1163.46</td>\n",
       "        </tr>\n",
       "    </tbody>\n",
       "</table>"
      ],
      "text/plain": [
       "[(0, 1, 39.0, 'male', 23.2, 91, 'Yes', 0, 'No', 'southeast', 1121.87),\n",
       " (1, 2, 24.0, 'male', 30.1, 87, 'No', 0, 'No', 'southeast', 1131.51),\n",
       " (2, 3, None, 'male', 33.3, 82, 'Yes', 0, 'No', 'southeast', 1135.94),\n",
       " (3, 4, None, 'male', 33.7, 80, 'No', 0, 'No', 'northwest', 1136.4),\n",
       " (4, 5, None, 'male', 34.1, 100, 'No', 0, 'No', 'northwest', 1137.01),\n",
       " (5, 6, None, 'male', 34.4, 96, 'Yes', 0, 'No', 'northwest', 1137.47),\n",
       " (6, 7, None, 'male', 37.3, 86, 'Yes', 0, 'No', 'northwest', 1141.45),\n",
       " (7, 8, 19.0, 'male', 41.1, 100, 'No', 0, 'No', 'northwest', 1146.8),\n",
       " (8, 9, 20.0, 'male', 43.0, 86, 'No', 0, 'No', 'northwest', 1149.4),\n",
       " (9, 10, 30.0, 'male', 53.1, 97, 'No', 0, 'No', 'northwest', 1163.46)]"
      ]
     },
     "execution_count": 17,
     "metadata": {},
     "output_type": "execute_result"
    }
   ],
   "source": [
    "%%sql \n",
    "select * from insurance limit 10"
   ]
  },
  {
   "cell_type": "markdown",
   "id": "d1ed8fa5",
   "metadata": {},
   "source": [
    "### Problem 1\n",
    "\n",
    "How many patients have claimed more than the average claim amount for patients who are smokers and have at least one child, and belong to the southeast region?"
   ]
  },
  {
   "cell_type": "code",
   "execution_count": 13,
   "id": "d50823d7",
   "metadata": {},
   "outputs": [
    {
     "name": "stdout",
     "output_type": "stream",
     "text": [
      " * sqlite:///FinalDB.db\n",
      "Done.\n"
     ]
    },
    {
     "data": {
      "text/html": [
       "<table>\n",
       "    <thead>\n",
       "        <tr>\n",
       "            <th>number of patients</th>\n",
       "        </tr>\n",
       "    </thead>\n",
       "    <tbody>\n",
       "        <tr>\n",
       "            <td>51</td>\n",
       "        </tr>\n",
       "    </tbody>\n",
       "</table>"
      ],
      "text/plain": [
       "[(51,)]"
      ]
     },
     "execution_count": 13,
     "metadata": {},
     "output_type": "execute_result"
    }
   ],
   "source": [
    "%%sql\n",
    "SELECT COUNT(*) AS `number of patients`\n",
    "FROM insurance\n",
    "WHERE smoker = 'Yes'\n",
    "  AND children >= 1\n",
    "  AND region = 'southeast'\n",
    "  AND claim > (SELECT AVG(claim) FROM insurance);\n"
   ]
  },
  {
   "cell_type": "markdown",
   "id": "78ba200d",
   "metadata": {},
   "source": [
    "### Problem 2\n",
    "How many patients have claimed more than the average claim amount for patients who are not smokers and have a BMI greater than the average BMI for patients who have at least one child?"
   ]
  },
  {
   "cell_type": "code",
   "execution_count": 15,
   "id": "572e9650",
   "metadata": {
    "scrolled": false
   },
   "outputs": [
    {
     "name": "stdout",
     "output_type": "stream",
     "text": [
      " * sqlite:///FinalDB.db\n",
      "Done.\n"
     ]
    },
    {
     "data": {
      "text/html": [
       "<table>\n",
       "    <thead>\n",
       "        <tr>\n",
       "            <th>Number of patients</th>\n",
       "        </tr>\n",
       "    </thead>\n",
       "    <tbody>\n",
       "        <tr>\n",
       "            <td>45</td>\n",
       "        </tr>\n",
       "    </tbody>\n",
       "</table>"
      ],
      "text/plain": [
       "[(45,)]"
      ]
     },
     "execution_count": 15,
     "metadata": {},
     "output_type": "execute_result"
    }
   ],
   "source": [
    "%%sql\n",
    "SELECT COUNT(*) AS `Number of patients`\n",
    "FROM insurance \n",
    "WHERE smoker = 'No' \n",
    "  AND children >= 1 \n",
    "  AND bmi > (SELECT AVG(bmi) FROM insurance)\n",
    "  AND claim > (SELECT AVG(claim) FROM insurance);\n"
   ]
  },
  {
   "cell_type": "markdown",
   "id": "927fca32",
   "metadata": {},
   "source": [
    "### Problem 3\n",
    "How many patients have claimed more than the average claim amount for patients who have a BMI greater than the average BMI for patients who are diabetic, have at least one child, and are from the southwest region?"
   ]
  },
  {
   "cell_type": "code",
   "execution_count": 16,
   "id": "14d605e0",
   "metadata": {},
   "outputs": [
    {
     "name": "stdout",
     "output_type": "stream",
     "text": [
      " * sqlite:///FinalDB.db\n",
      "Done.\n"
     ]
    },
    {
     "data": {
      "text/html": [
       "<table>\n",
       "    <thead>\n",
       "        <tr>\n",
       "            <th>Number of patients</th>\n",
       "        </tr>\n",
       "    </thead>\n",
       "    <tbody>\n",
       "        <tr>\n",
       "            <td>4</td>\n",
       "        </tr>\n",
       "    </tbody>\n",
       "</table>"
      ],
      "text/plain": [
       "[(4,)]"
      ]
     },
     "execution_count": 16,
     "metadata": {},
     "output_type": "execute_result"
    }
   ],
   "source": [
    "%%sql\n",
    "SELECT COUNT(*) AS `Number of patients`\n",
    "FROM insurance \n",
    "WHERE smoker = 'No' \n",
    "  AND children >= 1 \n",
    "AND diabetic = 'Yes'\n",
    "AND region = 'southwest'\n",
    "AND bmi > (SELECT AVG(bmi) FROM insurance)\n",
    "AND claim > (SELECT AVG(claim) FROM insurance);\n"
   ]
  },
  {
   "cell_type": "markdown",
   "id": "739cbb66",
   "metadata": {},
   "source": [
    "### Problem 4\n",
    "What is the difference in the average claim amount between patients who are smokers and patients who are non-smokers, and have the same BMI and number of children?"
   ]
  },
  {
   "cell_type": "code",
   "execution_count": 18,
   "id": "26d67bfa",
   "metadata": {},
   "outputs": [
    {
     "name": "stdout",
     "output_type": "stream",
     "text": [
      " * sqlite:///FinalDB.db\n",
      "Done.\n"
     ]
    },
    {
     "data": {
      "text/html": [
       "<table>\n",
       "    <thead>\n",
       "        <tr>\n",
       "            <th>avg_claim_difference</th>\n",
       "        </tr>\n",
       "    </thead>\n",
       "    <tbody>\n",
       "        <tr>\n",
       "            <td>2813.9494850299347</td>\n",
       "        </tr>\n",
       "    </tbody>\n",
       "</table>"
      ],
      "text/plain": [
       "[(2813.9494850299347,)]"
      ]
     },
     "execution_count": 18,
     "metadata": {},
     "output_type": "execute_result"
    }
   ],
   "source": [
    "%%sql\n",
    "WITH AvgClaims AS (\n",
    "    SELECT smoker,\n",
    "           AVG(claim) AS avg_claim\n",
    "    FROM insurance\n",
    "    GROUP BY smoker, bmi, children\n",
    ")\n",
    "\n",
    "SELECT AVG(CASE WHEN smoker = 'Yes' THEN avg_claim ELSE -avg_claim END) AS avg_claim_difference\n",
    "FROM AvgClaims;\n"
   ]
  },
  {
   "cell_type": "markdown",
   "id": "324deafe",
   "metadata": {},
   "source": [
    "### Problem 5\n",
    "Find the average BMI for male and female patients separately.\n",
    "\n"
   ]
  },
  {
   "cell_type": "code",
   "execution_count": 22,
   "id": "a50d1953",
   "metadata": {},
   "outputs": [
    {
     "name": "stdout",
     "output_type": "stream",
     "text": [
      " * sqlite:///FinalDB.db\n",
      "Done.\n"
     ]
    },
    {
     "data": {
      "text/html": [
       "<table>\n",
       "    <thead>\n",
       "        <tr>\n",
       "            <th>gender</th>\n",
       "            <th>average bmi</th>\n",
       "        </tr>\n",
       "    </thead>\n",
       "    <tbody>\n",
       "        <tr>\n",
       "            <td>female</td>\n",
       "            <td>30.379758308157097</td>\n",
       "        </tr>\n",
       "        <tr>\n",
       "            <td>male</td>\n",
       "            <td>30.951327433628315</td>\n",
       "        </tr>\n",
       "    </tbody>\n",
       "</table>"
      ],
      "text/plain": [
       "[('female', 30.379758308157097), ('male', 30.951327433628315)]"
      ]
     },
     "execution_count": 22,
     "metadata": {},
     "output_type": "execute_result"
    }
   ],
   "source": [
    "%%sql\n",
    "select gender, avg(bmi) as `average bmi`\n",
    "from insurance\n",
    "group by gender"
   ]
  },
  {
   "cell_type": "markdown",
   "id": "fe0bafa5",
   "metadata": {},
   "source": [
    "### Problem 6\n",
    "Identify the top 5 regions with the highest average claim amounts."
   ]
  },
  {
   "cell_type": "code",
   "execution_count": 25,
   "id": "66deb4bc",
   "metadata": {},
   "outputs": [
    {
     "name": "stdout",
     "output_type": "stream",
     "text": [
      " * sqlite:///FinalDB.db\n",
      "Done.\n"
     ]
    },
    {
     "data": {
      "text/html": [
       "<table>\n",
       "    <thead>\n",
       "        <tr>\n",
       "            <th>region</th>\n",
       "            <th>average claim</th>\n",
       "        </tr>\n",
       "    </thead>\n",
       "    <tbody>\n",
       "        <tr>\n",
       "            <td>northeast</td>\n",
       "            <td>16889.044718614718</td>\n",
       "        </tr>\n",
       "        <tr>\n",
       "            <td>southeast</td>\n",
       "            <td>13058.522663656879</td>\n",
       "        </tr>\n",
       "        <tr>\n",
       "            <td>southwest</td>\n",
       "            <td>12723.129840764333</td>\n",
       "        </tr>\n",
       "        <tr>\n",
       "            <td>northwest</td>\n",
       "            <td>11672.088452722064</td>\n",
       "        </tr>\n",
       "        <tr>\n",
       "            <td>None</td>\n",
       "            <td>1254.216666666667</td>\n",
       "        </tr>\n",
       "    </tbody>\n",
       "</table>"
      ],
      "text/plain": [
       "[('northeast', 16889.044718614718),\n",
       " ('southeast', 13058.522663656879),\n",
       " ('southwest', 12723.129840764333),\n",
       " ('northwest', 11672.088452722064),\n",
       " (None, 1254.216666666667)]"
      ]
     },
     "execution_count": 25,
     "metadata": {},
     "output_type": "execute_result"
    }
   ],
   "source": [
    "%%sql\n",
    "select region, avg(claim) as `average claim`\n",
    "from insurance\n",
    "group by region\n",
    "order by `average claim` desc\n",
    "limit 5;"
   ]
  },
  {
   "cell_type": "markdown",
   "id": "525f1281",
   "metadata": {},
   "source": [
    "### Problem 7\n",
    "Count the number of smokers and non-smokers in each region."
   ]
  },
  {
   "cell_type": "code",
   "execution_count": 29,
   "id": "a12b9cb8",
   "metadata": {},
   "outputs": [
    {
     "name": "stdout",
     "output_type": "stream",
     "text": [
      " * sqlite:///FinalDB.db\n",
      "Done.\n"
     ]
    },
    {
     "data": {
      "text/html": [
       "<table>\n",
       "    <thead>\n",
       "        <tr>\n",
       "            <th>region</th>\n",
       "            <th>smoker</th>\n",
       "            <th>number of smokers and non smoker</th>\n",
       "        </tr>\n",
       "    </thead>\n",
       "    <tbody>\n",
       "        <tr>\n",
       "            <td>southeast</td>\n",
       "            <td>No</td>\n",
       "            <td>352</td>\n",
       "        </tr>\n",
       "        <tr>\n",
       "            <td>northwest</td>\n",
       "            <td>No</td>\n",
       "            <td>291</td>\n",
       "        </tr>\n",
       "        <tr>\n",
       "            <td>southwest</td>\n",
       "            <td>No</td>\n",
       "            <td>256</td>\n",
       "        </tr>\n",
       "        <tr>\n",
       "            <td>northeast</td>\n",
       "            <td>No</td>\n",
       "            <td>164</td>\n",
       "        </tr>\n",
       "        <tr>\n",
       "            <td>southeast</td>\n",
       "            <td>Yes</td>\n",
       "            <td>91</td>\n",
       "        </tr>\n",
       "        <tr>\n",
       "            <td>northeast</td>\n",
       "            <td>Yes</td>\n",
       "            <td>67</td>\n",
       "        </tr>\n",
       "        <tr>\n",
       "            <td>northwest</td>\n",
       "            <td>Yes</td>\n",
       "            <td>58</td>\n",
       "        </tr>\n",
       "        <tr>\n",
       "            <td>southwest</td>\n",
       "            <td>Yes</td>\n",
       "            <td>58</td>\n",
       "        </tr>\n",
       "        <tr>\n",
       "            <td>None</td>\n",
       "            <td>No</td>\n",
       "            <td>3</td>\n",
       "        </tr>\n",
       "    </tbody>\n",
       "</table>"
      ],
      "text/plain": [
       "[('southeast', 'No', 352),\n",
       " ('northwest', 'No', 291),\n",
       " ('southwest', 'No', 256),\n",
       " ('northeast', 'No', 164),\n",
       " ('southeast', 'Yes', 91),\n",
       " ('northeast', 'Yes', 67),\n",
       " ('northwest', 'Yes', 58),\n",
       " ('southwest', 'Yes', 58),\n",
       " (None, 'No', 3)]"
      ]
     },
     "execution_count": 29,
     "metadata": {},
     "output_type": "execute_result"
    }
   ],
   "source": [
    "%%sql \n",
    "select region,smoker, count(*) `number of smokers and non smoker`\n",
    "from insurance\n",
    "group by region,smoker\n",
    "order by `number of smokers and non smoker` desc;"
   ]
  },
  {
   "cell_type": "markdown",
   "id": "e3a5a600",
   "metadata": {},
   "source": [
    "### Problem 8\n",
    "Find the age of the oldest patient for each BMI range."
   ]
  },
  {
   "cell_type": "code",
   "execution_count": 31,
   "id": "89338416",
   "metadata": {},
   "outputs": [
    {
     "name": "stdout",
     "output_type": "stream",
     "text": [
      " * sqlite:///FinalDB.db\n",
      "Done.\n"
     ]
    },
    {
     "data": {
      "text/html": [
       "<table>\n",
       "    <thead>\n",
       "        <tr>\n",
       "            <th>BMI_Range</th>\n",
       "            <th>max_age</th>\n",
       "        </tr>\n",
       "    </thead>\n",
       "    <tbody>\n",
       "        <tr>\n",
       "            <td>Normal Weight</td>\n",
       "            <td>60.0</td>\n",
       "        </tr>\n",
       "        <tr>\n",
       "            <td>Obese</td>\n",
       "            <td>60.0</td>\n",
       "        </tr>\n",
       "        <tr>\n",
       "            <td>Overweight</td>\n",
       "            <td>60.0</td>\n",
       "        </tr>\n",
       "        <tr>\n",
       "            <td>Underweight</td>\n",
       "            <td>60.0</td>\n",
       "        </tr>\n",
       "    </tbody>\n",
       "</table>"
      ],
      "text/plain": [
       "[('Normal Weight', 60.0),\n",
       " ('Obese', 60.0),\n",
       " ('Overweight', 60.0),\n",
       " ('Underweight', 60.0)]"
      ]
     },
     "execution_count": 31,
     "metadata": {},
     "output_type": "execute_result"
    }
   ],
   "source": [
    "%%sql\n",
    "SELECT BMI_Range, MAX(age) AS max_age\n",
    "FROM (\n",
    "    SELECT CASE\n",
    "               WHEN bmi < 18.5 THEN 'Underweight'\n",
    "               WHEN bmi >= 18.5 AND bmi < 25 THEN 'Normal Weight'\n",
    "               WHEN bmi >= 25 AND bmi < 30 THEN 'Overweight'\n",
    "               WHEN bmi >= 30 THEN 'Obese'\n",
    "           END AS BMI_Range,\n",
    "           age\n",
    "    FROM insurance\n",
    ")\n",
    "GROUP BY BMI_Range;\n"
   ]
  },
  {
   "cell_type": "markdown",
   "id": "e9b8d5b2",
   "metadata": {},
   "source": [
    "### Problem 9\n",
    "Calculate the total number of children for patients in each region."
   ]
  },
  {
   "cell_type": "code",
   "execution_count": 30,
   "id": "dd42db96",
   "metadata": {},
   "outputs": [
    {
     "name": "stdout",
     "output_type": "stream",
     "text": [
      " * sqlite:///FinalDB.db\n",
      "Done.\n"
     ]
    },
    {
     "data": {
      "text/html": [
       "<table>\n",
       "    <thead>\n",
       "        <tr>\n",
       "            <th>region</th>\n",
       "            <th>Number of Children</th>\n",
       "        </tr>\n",
       "    </thead>\n",
       "    <tbody>\n",
       "        <tr>\n",
       "            <td>southeast</td>\n",
       "            <td>485</td>\n",
       "        </tr>\n",
       "        <tr>\n",
       "            <td>northwest</td>\n",
       "            <td>375</td>\n",
       "        </tr>\n",
       "        <tr>\n",
       "            <td>southwest</td>\n",
       "            <td>370</td>\n",
       "        </tr>\n",
       "        <tr>\n",
       "            <td>northeast</td>\n",
       "            <td>235</td>\n",
       "        </tr>\n",
       "        <tr>\n",
       "            <td>None</td>\n",
       "            <td>0</td>\n",
       "        </tr>\n",
       "    </tbody>\n",
       "</table>"
      ],
      "text/plain": [
       "[('southeast', 485),\n",
       " ('northwest', 375),\n",
       " ('southwest', 370),\n",
       " ('northeast', 235),\n",
       " (None, 0)]"
      ]
     },
     "execution_count": 30,
     "metadata": {},
     "output_type": "execute_result"
    }
   ],
   "source": [
    "%%sql\n",
    "select region, sum(children) as `Number of Children` \n",
    "from insurance\n",
    "group by region\n",
    "order by `Number of Children` desc;"
   ]
  },
  {
   "cell_type": "code",
   "execution_count": null,
   "id": "9e6a27b4",
   "metadata": {},
   "outputs": [],
   "source": []
  }
 ],
 "metadata": {
  "kernelspec": {
   "display_name": "Python 3 (ipykernel)",
   "language": "python",
   "name": "python3"
  },
  "language_info": {
   "codemirror_mode": {
    "name": "ipython",
    "version": 3
   },
   "file_extension": ".py",
   "mimetype": "text/x-python",
   "name": "python",
   "nbconvert_exporter": "python",
   "pygments_lexer": "ipython3",
   "version": "3.11.1"
  }
 },
 "nbformat": 4,
 "nbformat_minor": 5
}
